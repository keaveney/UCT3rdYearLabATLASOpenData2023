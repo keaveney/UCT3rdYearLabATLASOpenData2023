{
 "cells": [
  {
   "cell_type": "markdown",
   "metadata": {},
   "source": [
    "# Part 1: Measuring the Z boson mass\n",
    " This notebook contains basic anlaysis as described in the lab manual."
   ]
  },
  {
   "cell_type": "markdown",
   "metadata": {},
   "source": [
    "# Step 0. Importing useful packages\n",
    "\n",
    " Most python scripts start with 'import' statements like this that make useful packages available. Examples are 'uproot' which reads in our data files and allows them to be read, 'numpy' is a powerful and popular package for fast manipultation of arrays and 'scipy.stats' is useful for statitical analysis,we'll use it to generate and fit functions to our data."
   ]
  },
  {
   "cell_type": "code",
   "execution_count": 2,
   "metadata": {},
   "outputs": [],
   "source": [
    "import lorentz\n",
    "import uproot3 as uproot\n",
    "import uproot_methods.classes.TLorentzVector as LVepm\n",
    "import numpy as np\n",
    "import matplotlib.pyplot as plt\n",
    "from scipy import stats\n",
    "from scipy.stats import cauchy\n",
    "from scipy.stats import norm\n",
    "\n",
    "import pandas as pd"
   ]
  },
  {
   "cell_type": "markdown",
   "metadata": {},
   "source": [
    "# Step 1. Access the data file and convert into a 'pandas dataframe'.\n",
    "\n",
    " - Here the file is converted into the very poweful 'pandas dataframe' format which is used a lot in modern\n",
    "     statistical analysis. You can think of the dataframe as a super-charged spreadsheet. Each row represents \n",
    "     a proton-proton collision event, and every column represents a piece of information ('observable') we have\n",
    "     recorded from that event.\n",
    "\n",
    " - We are going to work with 7 observables: the components of the muon's four-vector, the charge of the muon and two     extra variables related to how isolated the muon is from other particles. As we will have two muons produced in       each event, that makes 14 observables per event.\n",
    " \n",
    " \n",
    "The first thing we want to do is read our data file. Remebmber it contains ~500k proton collision events from the ATLAS Open Data pre-selected so that each event contains two muon candidates with transverse mometum greater than 20000 MeV."
   ]
  },
  {
   "cell_type": "code",
   "execution_count": 3,
   "metadata": {},
   "outputs": [
    {
     "ename": "FileNotFoundError",
     "evalue": "[Errno 2] No such file or directory: 'data_Skim_mumu.root'",
     "output_type": "error",
     "traceback": [
      "\u001b[0;31m---------------------------------------------------------------------------\u001b[0m",
      "\u001b[0;31mFileNotFoundError\u001b[0m                         Traceback (most recent call last)",
      "\u001b[0;32m<ipython-input-3-f26110aa4e7c>\u001b[0m in \u001b[0;36m<module>\u001b[0;34m\u001b[0m\n\u001b[0;32m----> 1\u001b[0;31m \u001b[0meventsData\u001b[0m \u001b[0;34m=\u001b[0m \u001b[0muproot\u001b[0m\u001b[0;34m.\u001b[0m\u001b[0mopen\u001b[0m\u001b[0;34m(\u001b[0m\u001b[0;34m\"data_Skim_mumu.root\"\u001b[0m\u001b[0;34m)\u001b[0m\u001b[0;34m[\u001b[0m\u001b[0;34m\"mini\"\u001b[0m\u001b[0;34m]\u001b[0m \u001b[0;31m#this command tells uproot where to find the file\u001b[0m\u001b[0;34m\u001b[0m\u001b[0;34m\u001b[0m\u001b[0m\n\u001b[0m\u001b[1;32m      2\u001b[0m \u001b[0mdf\u001b[0m \u001b[0;34m=\u001b[0m \u001b[0meventsData\u001b[0m\u001b[0;34m.\u001b[0m\u001b[0mpandas\u001b[0m\u001b[0;34m.\u001b[0m\u001b[0mdf\u001b[0m\u001b[0;34m(\u001b[0m\u001b[0;34m[\u001b[0m\u001b[0;34m\"muon_E\"\u001b[0m\u001b[0;34m,\u001b[0m \u001b[0;34m\"muon_pt\"\u001b[0m\u001b[0;34m,\u001b[0m \u001b[0;34m\"muon_phi\"\u001b[0m\u001b[0;34m,\u001b[0m \u001b[0;34m\"muon_eta\"\u001b[0m\u001b[0;34m,\u001b[0m \u001b[0;34m\"muon_charge\"\u001b[0m\u001b[0;34m,\u001b[0m \u001b[0;34m\"muon_etcone20\"\u001b[0m\u001b[0;34m,\u001b[0m \u001b[0;34m\"muon_ptcone30\"\u001b[0m\u001b[0;34m]\u001b[0m\u001b[0;34m)\u001b[0m\u001b[0;34m\u001b[0m\u001b[0;34m\u001b[0m\u001b[0m\n\u001b[1;32m      3\u001b[0m \u001b[0;34m\u001b[0m\u001b[0m\n\u001b[1;32m      4\u001b[0m \u001b[0;34m\u001b[0m\u001b[0m\n\u001b[1;32m      5\u001b[0m \u001b[0;31m#NOTE - NONE OF THE REST OF THIS NOTEBOOK WILL RUN UNTIL YOU DOWNLOAD THE INPUT DATA AND SIMULATION FILES FROM HERE\u001b[0m\u001b[0;34m\u001b[0m\u001b[0;34m\u001b[0m\u001b[0;34m\u001b[0m\u001b[0m\n",
      "\u001b[0;32m~/py38_env/lib/python3.8/site-packages/uproot3/rootio.py\u001b[0m in \u001b[0;36mopen\u001b[0;34m(path, localsource, xrootdsource, httpsource, **options)\u001b[0m\n\u001b[1;32m     53\u001b[0m         \u001b[0;32melse\u001b[0m\u001b[0;34m:\u001b[0m\u001b[0;34m\u001b[0m\u001b[0;34m\u001b[0m\u001b[0m\n\u001b[1;32m     54\u001b[0m             \u001b[0mopenfcn\u001b[0m \u001b[0;34m=\u001b[0m \u001b[0mlocalsource\u001b[0m\u001b[0;34m\u001b[0m\u001b[0;34m\u001b[0m\u001b[0m\n\u001b[0;32m---> 55\u001b[0;31m         \u001b[0;32mreturn\u001b[0m \u001b[0mROOTDirectory\u001b[0m\u001b[0;34m.\u001b[0m\u001b[0mread\u001b[0m\u001b[0;34m(\u001b[0m\u001b[0mopenfcn\u001b[0m\u001b[0;34m(\u001b[0m\u001b[0mpath\u001b[0m\u001b[0;34m)\u001b[0m\u001b[0;34m,\u001b[0m \u001b[0;34m**\u001b[0m\u001b[0moptions\u001b[0m\u001b[0;34m)\u001b[0m\u001b[0;34m\u001b[0m\u001b[0;34m\u001b[0m\u001b[0m\n\u001b[0m\u001b[1;32m     56\u001b[0m \u001b[0;34m\u001b[0m\u001b[0m\n\u001b[1;32m     57\u001b[0m     \u001b[0;32melif\u001b[0m \u001b[0m_bytesid\u001b[0m\u001b[0;34m(\u001b[0m\u001b[0mparsed\u001b[0m\u001b[0;34m.\u001b[0m\u001b[0mscheme\u001b[0m\u001b[0;34m)\u001b[0m \u001b[0;34m==\u001b[0m \u001b[0;34mb\"root\"\u001b[0m\u001b[0;34m:\u001b[0m\u001b[0;34m\u001b[0m\u001b[0;34m\u001b[0m\u001b[0m\n",
      "\u001b[0;32m~/py38_env/lib/python3.8/site-packages/uproot3/rootio.py\u001b[0m in \u001b[0;36m<lambda>\u001b[0;34m(path)\u001b[0m\n\u001b[1;32m     50\u001b[0m                 \u001b[0;32mif\u001b[0m \u001b[0mn\u001b[0m \u001b[0;32min\u001b[0m \u001b[0moptions\u001b[0m\u001b[0;34m:\u001b[0m\u001b[0;34m\u001b[0m\u001b[0;34m\u001b[0m\u001b[0m\n\u001b[1;32m     51\u001b[0m                     \u001b[0mkwargs\u001b[0m\u001b[0;34m[\u001b[0m\u001b[0mn\u001b[0m\u001b[0;34m]\u001b[0m \u001b[0;34m=\u001b[0m \u001b[0moptions\u001b[0m\u001b[0;34m.\u001b[0m\u001b[0mpop\u001b[0m\u001b[0;34m(\u001b[0m\u001b[0mn\u001b[0m\u001b[0;34m)\u001b[0m\u001b[0;34m\u001b[0m\u001b[0;34m\u001b[0m\u001b[0m\n\u001b[0;32m---> 52\u001b[0;31m             \u001b[0mopenfcn\u001b[0m \u001b[0;34m=\u001b[0m \u001b[0;32mlambda\u001b[0m \u001b[0mpath\u001b[0m\u001b[0;34m:\u001b[0m \u001b[0mMemmapSource\u001b[0m\u001b[0;34m(\u001b[0m\u001b[0mpath\u001b[0m\u001b[0;34m,\u001b[0m \u001b[0;34m**\u001b[0m\u001b[0mkwargs\u001b[0m\u001b[0;34m)\u001b[0m\u001b[0;34m\u001b[0m\u001b[0;34m\u001b[0m\u001b[0m\n\u001b[0m\u001b[1;32m     53\u001b[0m         \u001b[0;32melse\u001b[0m\u001b[0;34m:\u001b[0m\u001b[0;34m\u001b[0m\u001b[0;34m\u001b[0m\u001b[0m\n\u001b[1;32m     54\u001b[0m             \u001b[0mopenfcn\u001b[0m \u001b[0;34m=\u001b[0m \u001b[0mlocalsource\u001b[0m\u001b[0;34m\u001b[0m\u001b[0;34m\u001b[0m\u001b[0m\n",
      "\u001b[0;32m~/py38_env/lib/python3.8/site-packages/uproot3/source/memmap.py\u001b[0m in \u001b[0;36m__init__\u001b[0;34m(self, path)\u001b[0m\n\u001b[1;32m     19\u001b[0m     \u001b[0;32mdef\u001b[0m \u001b[0m__init__\u001b[0m\u001b[0;34m(\u001b[0m\u001b[0mself\u001b[0m\u001b[0;34m,\u001b[0m \u001b[0mpath\u001b[0m\u001b[0;34m)\u001b[0m\u001b[0;34m:\u001b[0m\u001b[0;34m\u001b[0m\u001b[0;34m\u001b[0m\u001b[0m\n\u001b[1;32m     20\u001b[0m         \u001b[0mself\u001b[0m\u001b[0;34m.\u001b[0m\u001b[0mpath\u001b[0m \u001b[0;34m=\u001b[0m \u001b[0mos\u001b[0m\u001b[0;34m.\u001b[0m\u001b[0mpath\u001b[0m\u001b[0;34m.\u001b[0m\u001b[0mexpanduser\u001b[0m\u001b[0;34m(\u001b[0m\u001b[0mpath\u001b[0m\u001b[0;34m)\u001b[0m\u001b[0;34m\u001b[0m\u001b[0;34m\u001b[0m\u001b[0m\n\u001b[0;32m---> 21\u001b[0;31m         \u001b[0mself\u001b[0m\u001b[0;34m.\u001b[0m\u001b[0m_source\u001b[0m \u001b[0;34m=\u001b[0m \u001b[0mnumpy\u001b[0m\u001b[0;34m.\u001b[0m\u001b[0mmemmap\u001b[0m\u001b[0;34m(\u001b[0m\u001b[0mself\u001b[0m\u001b[0;34m.\u001b[0m\u001b[0mpath\u001b[0m\u001b[0;34m,\u001b[0m \u001b[0mdtype\u001b[0m\u001b[0;34m=\u001b[0m\u001b[0mnumpy\u001b[0m\u001b[0;34m.\u001b[0m\u001b[0muint8\u001b[0m\u001b[0;34m,\u001b[0m \u001b[0mmode\u001b[0m\u001b[0;34m=\u001b[0m\u001b[0;34m\"r\"\u001b[0m\u001b[0;34m)\u001b[0m\u001b[0;34m\u001b[0m\u001b[0;34m\u001b[0m\u001b[0m\n\u001b[0m\u001b[1;32m     22\u001b[0m         \u001b[0mself\u001b[0m\u001b[0;34m.\u001b[0m\u001b[0mclosed\u001b[0m \u001b[0;34m=\u001b[0m \u001b[0;32mFalse\u001b[0m\u001b[0;34m\u001b[0m\u001b[0;34m\u001b[0m\u001b[0m\n\u001b[1;32m     23\u001b[0m \u001b[0;34m\u001b[0m\u001b[0m\n",
      "\u001b[0;32m~/py38_env/lib/python3.8/site-packages/numpy/core/memmap.py\u001b[0m in \u001b[0;36m__new__\u001b[0;34m(subtype, filename, dtype, mode, offset, shape, order)\u001b[0m\n\u001b[1;32m    223\u001b[0m             \u001b[0mf_ctx\u001b[0m \u001b[0;34m=\u001b[0m \u001b[0mcontextlib_nullcontext\u001b[0m\u001b[0;34m(\u001b[0m\u001b[0mfilename\u001b[0m\u001b[0;34m)\u001b[0m\u001b[0;34m\u001b[0m\u001b[0;34m\u001b[0m\u001b[0m\n\u001b[1;32m    224\u001b[0m         \u001b[0;32melse\u001b[0m\u001b[0;34m:\u001b[0m\u001b[0;34m\u001b[0m\u001b[0;34m\u001b[0m\u001b[0m\n\u001b[0;32m--> 225\u001b[0;31m             \u001b[0mf_ctx\u001b[0m \u001b[0;34m=\u001b[0m \u001b[0mopen\u001b[0m\u001b[0;34m(\u001b[0m\u001b[0mos_fspath\u001b[0m\u001b[0;34m(\u001b[0m\u001b[0mfilename\u001b[0m\u001b[0;34m)\u001b[0m\u001b[0;34m,\u001b[0m \u001b[0;34m(\u001b[0m\u001b[0;34m'r'\u001b[0m \u001b[0;32mif\u001b[0m \u001b[0mmode\u001b[0m \u001b[0;34m==\u001b[0m \u001b[0;34m'c'\u001b[0m \u001b[0;32melse\u001b[0m \u001b[0mmode\u001b[0m\u001b[0;34m)\u001b[0m\u001b[0;34m+\u001b[0m\u001b[0;34m'b'\u001b[0m\u001b[0;34m)\u001b[0m\u001b[0;34m\u001b[0m\u001b[0;34m\u001b[0m\u001b[0m\n\u001b[0m\u001b[1;32m    226\u001b[0m \u001b[0;34m\u001b[0m\u001b[0m\n\u001b[1;32m    227\u001b[0m         \u001b[0;32mwith\u001b[0m \u001b[0mf_ctx\u001b[0m \u001b[0;32mas\u001b[0m \u001b[0mfid\u001b[0m\u001b[0;34m:\u001b[0m\u001b[0;34m\u001b[0m\u001b[0;34m\u001b[0m\u001b[0m\n",
      "\u001b[0;31mFileNotFoundError\u001b[0m: [Errno 2] No such file or directory: 'data_Skim_mumu.root'"
     ]
    }
   ],
   "source": [
    "eventsData = uproot.open(\"data_Skim_mumu.root\")[\"mini\"] #this command tells uproot where to find the file\n",
    "df = eventsData.pandas.df([\"muon_E\", \"muon_pt\", \"muon_phi\", \"muon_eta\", \"muon_charge\", \"muon_etcone20\", \"muon_ptcone30\"])\n",
    "\n",
    "\n",
    "#NOTE - NONE OF THE REST OF THIS NOTEBOOK WILL RUN UNTIL YOU DOWNLOAD THE INPUT DATA AND SIMULATION FILES FROM HERE\n",
    "# https://drive.google.com/drive/folders/1iqUqc277CDBXsfUks0Z3i9EzhH0C5_Fp?usp=sharing\n",
    "# You will need to be logged in to google with your UCT account to gain access\n",
    "\n",
    "#PLACE ALL FILES IN THE SAME DIRECTORY AS THIS NOTEBOOK.\n",
    "\n",
    "\n",
    "\n",
    "print(\"File has been successfully opened!\")"
   ]
  },
  {
   "cell_type": "markdown",
   "metadata": {},
   "source": [
    "We said dataframes are like spreadsheets and we can see that structure directly by simply typing the name of the variable representing the dataframe (\"df\") into the prompt.\n",
    "We'll see the familiar row/column structure with our twelve observables and lots of events!"
   ]
  },
  {
   "cell_type": "code",
   "execution_count": 3,
   "metadata": {},
   "outputs": [
    {
     "data": {
      "text/html": [
       "<div>\n",
       "<style scoped>\n",
       "    .dataframe tbody tr th:only-of-type {\n",
       "        vertical-align: middle;\n",
       "    }\n",
       "\n",
       "    .dataframe tbody tr th {\n",
       "        vertical-align: top;\n",
       "    }\n",
       "\n",
       "    .dataframe thead th {\n",
       "        text-align: right;\n",
       "    }\n",
       "</style>\n",
       "<table border=\"1\" class=\"dataframe\">\n",
       "  <thead>\n",
       "    <tr style=\"text-align: right;\">\n",
       "      <th></th>\n",
       "      <th>muon_E[0]</th>\n",
       "      <th>muon_E[1]</th>\n",
       "      <th>muon_pt[0]</th>\n",
       "      <th>muon_pt[1]</th>\n",
       "      <th>muon_phi[0]</th>\n",
       "      <th>muon_phi[1]</th>\n",
       "      <th>muon_eta[0]</th>\n",
       "      <th>muon_eta[1]</th>\n",
       "      <th>muon_charge[0]</th>\n",
       "      <th>muon_charge[1]</th>\n",
       "      <th>muon_etcone20[0]</th>\n",
       "      <th>muon_etcone20[1]</th>\n",
       "      <th>muon_ptcone30[0]</th>\n",
       "      <th>muon_ptcone30[1]</th>\n",
       "    </tr>\n",
       "    <tr>\n",
       "      <th>entry</th>\n",
       "      <th></th>\n",
       "      <th></th>\n",
       "      <th></th>\n",
       "      <th></th>\n",
       "      <th></th>\n",
       "      <th></th>\n",
       "      <th></th>\n",
       "      <th></th>\n",
       "      <th></th>\n",
       "      <th></th>\n",
       "      <th></th>\n",
       "      <th></th>\n",
       "      <th></th>\n",
       "      <th></th>\n",
       "    </tr>\n",
       "  </thead>\n",
       "  <tbody>\n",
       "    <tr>\n",
       "      <th>0</th>\n",
       "      <td>59232.882812</td>\n",
       "      <td>55261.050781</td>\n",
       "      <td>49085.519531</td>\n",
       "      <td>39126.156250</td>\n",
       "      <td>0.147713</td>\n",
       "      <td>-2.867906</td>\n",
       "      <td>0.632411</td>\n",
       "      <td>0.879536</td>\n",
       "      <td>1</td>\n",
       "      <td>-1</td>\n",
       "      <td>-991.511536</td>\n",
       "      <td>603.206848</td>\n",
       "      <td>0.000000</td>\n",
       "      <td>0.000000</td>\n",
       "    </tr>\n",
       "    <tr>\n",
       "      <th>1</th>\n",
       "      <td>127074.187500</td>\n",
       "      <td>33773.015625</td>\n",
       "      <td>65642.484375</td>\n",
       "      <td>33766.769531</td>\n",
       "      <td>-1.462382</td>\n",
       "      <td>-2.781488</td>\n",
       "      <td>1.279104</td>\n",
       "      <td>-0.018981</td>\n",
       "      <td>-1</td>\n",
       "      <td>1</td>\n",
       "      <td>-788.608521</td>\n",
       "      <td>-1062.793091</td>\n",
       "      <td>1063.258789</td>\n",
       "      <td>0.000000</td>\n",
       "    </tr>\n",
       "    <tr>\n",
       "      <th>2</th>\n",
       "      <td>201868.750000</td>\n",
       "      <td>54080.953125</td>\n",
       "      <td>38357.257812</td>\n",
       "      <td>32836.464844</td>\n",
       "      <td>-2.771525</td>\n",
       "      <td>0.050257</td>\n",
       "      <td>-2.344670</td>\n",
       "      <td>-1.083706</td>\n",
       "      <td>-1</td>\n",
       "      <td>1</td>\n",
       "      <td>-320.122009</td>\n",
       "      <td>670.660217</td>\n",
       "      <td>0.000000</td>\n",
       "      <td>0.000000</td>\n",
       "    </tr>\n",
       "    <tr>\n",
       "      <th>3</th>\n",
       "      <td>79745.382812</td>\n",
       "      <td>28305.017578</td>\n",
       "      <td>69548.132812</td>\n",
       "      <td>27166.605469</td>\n",
       "      <td>1.549823</td>\n",
       "      <td>-0.946571</td>\n",
       "      <td>-0.535110</td>\n",
       "      <td>0.288473</td>\n",
       "      <td>-1</td>\n",
       "      <td>1</td>\n",
       "      <td>39.919617</td>\n",
       "      <td>-149.053040</td>\n",
       "      <td>0.000000</td>\n",
       "      <td>0.000000</td>\n",
       "    </tr>\n",
       "    <tr>\n",
       "      <th>4</th>\n",
       "      <td>28867.724609</td>\n",
       "      <td>98152.656250</td>\n",
       "      <td>27808.724609</td>\n",
       "      <td>25207.083984</td>\n",
       "      <td>-1.008342</td>\n",
       "      <td>1.501000</td>\n",
       "      <td>0.275083</td>\n",
       "      <td>-2.035634</td>\n",
       "      <td>-1</td>\n",
       "      <td>1</td>\n",
       "      <td>121.450531</td>\n",
       "      <td>1119.237671</td>\n",
       "      <td>0.000000</td>\n",
       "      <td>0.000000</td>\n",
       "    </tr>\n",
       "    <tr>\n",
       "      <th>...</th>\n",
       "      <td>...</td>\n",
       "      <td>...</td>\n",
       "      <td>...</td>\n",
       "      <td>...</td>\n",
       "      <td>...</td>\n",
       "      <td>...</td>\n",
       "      <td>...</td>\n",
       "      <td>...</td>\n",
       "      <td>...</td>\n",
       "      <td>...</td>\n",
       "      <td>...</td>\n",
       "      <td>...</td>\n",
       "      <td>...</td>\n",
       "      <td>...</td>\n",
       "    </tr>\n",
       "    <tr>\n",
       "      <th>549252</th>\n",
       "      <td>37704.515625</td>\n",
       "      <td>53827.457031</td>\n",
       "      <td>33141.777344</td>\n",
       "      <td>31681.882812</td>\n",
       "      <td>2.159711</td>\n",
       "      <td>-1.051486</td>\n",
       "      <td>-0.518885</td>\n",
       "      <td>1.122499</td>\n",
       "      <td>-1</td>\n",
       "      <td>1</td>\n",
       "      <td>-380.786377</td>\n",
       "      <td>2450.864258</td>\n",
       "      <td>0.000000</td>\n",
       "      <td>1780.051636</td>\n",
       "    </tr>\n",
       "    <tr>\n",
       "      <th>549253</th>\n",
       "      <td>38264.097656</td>\n",
       "      <td>99136.992188</td>\n",
       "      <td>36691.769531</td>\n",
       "      <td>30524.439453</td>\n",
       "      <td>2.490635</td>\n",
       "      <td>-0.590939</td>\n",
       "      <td>0.291705</td>\n",
       "      <td>1.846531</td>\n",
       "      <td>-1</td>\n",
       "      <td>1</td>\n",
       "      <td>188.411438</td>\n",
       "      <td>-137.441544</td>\n",
       "      <td>0.000000</td>\n",
       "      <td>0.000000</td>\n",
       "    </tr>\n",
       "    <tr>\n",
       "      <th>549254</th>\n",
       "      <td>39036.566406</td>\n",
       "      <td>114896.968750</td>\n",
       "      <td>36656.058594</td>\n",
       "      <td>28371.234375</td>\n",
       "      <td>0.891378</td>\n",
       "      <td>-2.345073</td>\n",
       "      <td>0.358460</td>\n",
       "      <td>2.076203</td>\n",
       "      <td>-1</td>\n",
       "      <td>1</td>\n",
       "      <td>-491.892853</td>\n",
       "      <td>-164.486343</td>\n",
       "      <td>0.000000</td>\n",
       "      <td>0.000000</td>\n",
       "    </tr>\n",
       "    <tr>\n",
       "      <th>549255</th>\n",
       "      <td>37635.554688</td>\n",
       "      <td>63254.054688</td>\n",
       "      <td>36309.703125</td>\n",
       "      <td>34960.175781</td>\n",
       "      <td>-0.868658</td>\n",
       "      <td>2.357600</td>\n",
       "      <td>0.269410</td>\n",
       "      <td>-1.199111</td>\n",
       "      <td>1</td>\n",
       "      <td>-1</td>\n",
       "      <td>-358.352875</td>\n",
       "      <td>-358.352875</td>\n",
       "      <td>0.000000</td>\n",
       "      <td>0.000000</td>\n",
       "    </tr>\n",
       "    <tr>\n",
       "      <th>549256</th>\n",
       "      <td>61195.460938</td>\n",
       "      <td>35183.062500</td>\n",
       "      <td>47037.492188</td>\n",
       "      <td>33874.445312</td>\n",
       "      <td>-2.484330</td>\n",
       "      <td>1.060577</td>\n",
       "      <td>-0.757625</td>\n",
       "      <td>0.277058</td>\n",
       "      <td>1</td>\n",
       "      <td>-1</td>\n",
       "      <td>2067.195557</td>\n",
       "      <td>889.014832</td>\n",
       "      <td>0.000000</td>\n",
       "      <td>0.000000</td>\n",
       "    </tr>\n",
       "  </tbody>\n",
       "</table>\n",
       "<p>549257 rows × 14 columns</p>\n",
       "</div>"
      ],
      "text/plain": [
       "            muon_E[0]      muon_E[1]    muon_pt[0]    muon_pt[1]  muon_phi[0]  \\\n",
       "entry                                                                           \n",
       "0        59232.882812   55261.050781  49085.519531  39126.156250     0.147713   \n",
       "1       127074.187500   33773.015625  65642.484375  33766.769531    -1.462382   \n",
       "2       201868.750000   54080.953125  38357.257812  32836.464844    -2.771525   \n",
       "3        79745.382812   28305.017578  69548.132812  27166.605469     1.549823   \n",
       "4        28867.724609   98152.656250  27808.724609  25207.083984    -1.008342   \n",
       "...               ...            ...           ...           ...          ...   \n",
       "549252   37704.515625   53827.457031  33141.777344  31681.882812     2.159711   \n",
       "549253   38264.097656   99136.992188  36691.769531  30524.439453     2.490635   \n",
       "549254   39036.566406  114896.968750  36656.058594  28371.234375     0.891378   \n",
       "549255   37635.554688   63254.054688  36309.703125  34960.175781    -0.868658   \n",
       "549256   61195.460938   35183.062500  47037.492188  33874.445312    -2.484330   \n",
       "\n",
       "        muon_phi[1]  muon_eta[0]  muon_eta[1]  muon_charge[0]  muon_charge[1]  \\\n",
       "entry                                                                           \n",
       "0         -2.867906     0.632411     0.879536               1              -1   \n",
       "1         -2.781488     1.279104    -0.018981              -1               1   \n",
       "2          0.050257    -2.344670    -1.083706              -1               1   \n",
       "3         -0.946571    -0.535110     0.288473              -1               1   \n",
       "4          1.501000     0.275083    -2.035634              -1               1   \n",
       "...             ...          ...          ...             ...             ...   \n",
       "549252    -1.051486    -0.518885     1.122499              -1               1   \n",
       "549253    -0.590939     0.291705     1.846531              -1               1   \n",
       "549254    -2.345073     0.358460     2.076203              -1               1   \n",
       "549255     2.357600     0.269410    -1.199111               1              -1   \n",
       "549256     1.060577    -0.757625     0.277058               1              -1   \n",
       "\n",
       "        muon_etcone20[0]  muon_etcone20[1]  muon_ptcone30[0]  muon_ptcone30[1]  \n",
       "entry                                                                           \n",
       "0            -991.511536        603.206848          0.000000          0.000000  \n",
       "1            -788.608521      -1062.793091       1063.258789          0.000000  \n",
       "2            -320.122009        670.660217          0.000000          0.000000  \n",
       "3              39.919617       -149.053040          0.000000          0.000000  \n",
       "4             121.450531       1119.237671          0.000000          0.000000  \n",
       "...                  ...               ...               ...               ...  \n",
       "549252       -380.786377       2450.864258          0.000000       1780.051636  \n",
       "549253        188.411438       -137.441544          0.000000          0.000000  \n",
       "549254       -491.892853       -164.486343          0.000000          0.000000  \n",
       "549255       -358.352875       -358.352875          0.000000          0.000000  \n",
       "549256       2067.195557        889.014832          0.000000          0.000000  \n",
       "\n",
       "[549257 rows x 14 columns]"
      ]
     },
     "execution_count": 3,
     "metadata": {},
     "output_type": "execute_result"
    }
   ],
   "source": [
    "df"
   ]
  },
  {
   "cell_type": "markdown",
   "metadata": {},
   "source": [
    "You will see each event has values of the variables for \"muon[0]\" and \"muon[1]\". These refer to the muon\n",
    "with the larger and smaller pt values respectively.\n",
    "\n",
    "The next thing we want to do is apply some more critertia to our data so that it is dominated as much as possible by the Z->mumu process while still retaining as many events as possible."
   ]
  },
  {
   "cell_type": "markdown",
   "metadata": {},
   "source": [
    "# Step 2. Apply event selections"
   ]
  },
  {
   "cell_type": "code",
   "execution_count": 13,
   "metadata": {},
   "outputs": [
    {
     "name": "stdout",
     "output_type": "stream",
     "text": [
      "Number of selected events = 522476\n"
     ]
    },
    {
     "data": {
      "text/html": [
       "<div>\n",
       "<style scoped>\n",
       "    .dataframe tbody tr th:only-of-type {\n",
       "        vertical-align: middle;\n",
       "    }\n",
       "\n",
       "    .dataframe tbody tr th {\n",
       "        vertical-align: top;\n",
       "    }\n",
       "\n",
       "    .dataframe thead th {\n",
       "        text-align: right;\n",
       "    }\n",
       "</style>\n",
       "<table border=\"1\" class=\"dataframe\">\n",
       "  <thead>\n",
       "    <tr style=\"text-align: right;\">\n",
       "      <th></th>\n",
       "      <th>muon_E[0]</th>\n",
       "      <th>muon_E[1]</th>\n",
       "      <th>muon_pt[0]</th>\n",
       "      <th>muon_pt[1]</th>\n",
       "      <th>muon_phi[0]</th>\n",
       "      <th>muon_phi[1]</th>\n",
       "      <th>muon_eta[0]</th>\n",
       "      <th>muon_eta[1]</th>\n",
       "      <th>muon_charge[0]</th>\n",
       "      <th>muon_charge[1]</th>\n",
       "      <th>muon_etcone20[0]</th>\n",
       "      <th>muon_etcone20[1]</th>\n",
       "      <th>muon_ptcone30[0]</th>\n",
       "      <th>muon_ptcone30[1]</th>\n",
       "    </tr>\n",
       "    <tr>\n",
       "      <th>entry</th>\n",
       "      <th></th>\n",
       "      <th></th>\n",
       "      <th></th>\n",
       "      <th></th>\n",
       "      <th></th>\n",
       "      <th></th>\n",
       "      <th></th>\n",
       "      <th></th>\n",
       "      <th></th>\n",
       "      <th></th>\n",
       "      <th></th>\n",
       "      <th></th>\n",
       "      <th></th>\n",
       "      <th></th>\n",
       "    </tr>\n",
       "  </thead>\n",
       "  <tbody>\n",
       "    <tr>\n",
       "      <th>0</th>\n",
       "      <td>59232.882812</td>\n",
       "      <td>55261.050781</td>\n",
       "      <td>49085.519531</td>\n",
       "      <td>39126.156250</td>\n",
       "      <td>0.147713</td>\n",
       "      <td>-2.867906</td>\n",
       "      <td>0.632411</td>\n",
       "      <td>0.879536</td>\n",
       "      <td>1</td>\n",
       "      <td>-1</td>\n",
       "      <td>-991.511536</td>\n",
       "      <td>603.206848</td>\n",
       "      <td>0.000000</td>\n",
       "      <td>0.000000</td>\n",
       "    </tr>\n",
       "    <tr>\n",
       "      <th>1</th>\n",
       "      <td>127074.187500</td>\n",
       "      <td>33773.015625</td>\n",
       "      <td>65642.484375</td>\n",
       "      <td>33766.769531</td>\n",
       "      <td>-1.462382</td>\n",
       "      <td>-2.781488</td>\n",
       "      <td>1.279104</td>\n",
       "      <td>-0.018981</td>\n",
       "      <td>-1</td>\n",
       "      <td>1</td>\n",
       "      <td>-788.608521</td>\n",
       "      <td>-1062.793091</td>\n",
       "      <td>1063.258789</td>\n",
       "      <td>0.000000</td>\n",
       "    </tr>\n",
       "    <tr>\n",
       "      <th>2</th>\n",
       "      <td>201868.750000</td>\n",
       "      <td>54080.953125</td>\n",
       "      <td>38357.257812</td>\n",
       "      <td>32836.464844</td>\n",
       "      <td>-2.771525</td>\n",
       "      <td>0.050257</td>\n",
       "      <td>-2.344670</td>\n",
       "      <td>-1.083706</td>\n",
       "      <td>-1</td>\n",
       "      <td>1</td>\n",
       "      <td>-320.122009</td>\n",
       "      <td>670.660217</td>\n",
       "      <td>0.000000</td>\n",
       "      <td>0.000000</td>\n",
       "    </tr>\n",
       "    <tr>\n",
       "      <th>3</th>\n",
       "      <td>79745.382812</td>\n",
       "      <td>28305.017578</td>\n",
       "      <td>69548.132812</td>\n",
       "      <td>27166.605469</td>\n",
       "      <td>1.549823</td>\n",
       "      <td>-0.946571</td>\n",
       "      <td>-0.535110</td>\n",
       "      <td>0.288473</td>\n",
       "      <td>-1</td>\n",
       "      <td>1</td>\n",
       "      <td>39.919617</td>\n",
       "      <td>-149.053040</td>\n",
       "      <td>0.000000</td>\n",
       "      <td>0.000000</td>\n",
       "    </tr>\n",
       "    <tr>\n",
       "      <th>4</th>\n",
       "      <td>28867.724609</td>\n",
       "      <td>98152.656250</td>\n",
       "      <td>27808.724609</td>\n",
       "      <td>25207.083984</td>\n",
       "      <td>-1.008342</td>\n",
       "      <td>1.501000</td>\n",
       "      <td>0.275083</td>\n",
       "      <td>-2.035634</td>\n",
       "      <td>-1</td>\n",
       "      <td>1</td>\n",
       "      <td>121.450531</td>\n",
       "      <td>1119.237671</td>\n",
       "      <td>0.000000</td>\n",
       "      <td>0.000000</td>\n",
       "    </tr>\n",
       "    <tr>\n",
       "      <th>...</th>\n",
       "      <td>...</td>\n",
       "      <td>...</td>\n",
       "      <td>...</td>\n",
       "      <td>...</td>\n",
       "      <td>...</td>\n",
       "      <td>...</td>\n",
       "      <td>...</td>\n",
       "      <td>...</td>\n",
       "      <td>...</td>\n",
       "      <td>...</td>\n",
       "      <td>...</td>\n",
       "      <td>...</td>\n",
       "      <td>...</td>\n",
       "      <td>...</td>\n",
       "    </tr>\n",
       "    <tr>\n",
       "      <th>549252</th>\n",
       "      <td>37704.515625</td>\n",
       "      <td>53827.457031</td>\n",
       "      <td>33141.777344</td>\n",
       "      <td>31681.882812</td>\n",
       "      <td>2.159711</td>\n",
       "      <td>-1.051486</td>\n",
       "      <td>-0.518885</td>\n",
       "      <td>1.122499</td>\n",
       "      <td>-1</td>\n",
       "      <td>1</td>\n",
       "      <td>-380.786377</td>\n",
       "      <td>2450.864258</td>\n",
       "      <td>0.000000</td>\n",
       "      <td>1780.051636</td>\n",
       "    </tr>\n",
       "    <tr>\n",
       "      <th>549253</th>\n",
       "      <td>38264.097656</td>\n",
       "      <td>99136.992188</td>\n",
       "      <td>36691.769531</td>\n",
       "      <td>30524.439453</td>\n",
       "      <td>2.490635</td>\n",
       "      <td>-0.590939</td>\n",
       "      <td>0.291705</td>\n",
       "      <td>1.846531</td>\n",
       "      <td>-1</td>\n",
       "      <td>1</td>\n",
       "      <td>188.411438</td>\n",
       "      <td>-137.441544</td>\n",
       "      <td>0.000000</td>\n",
       "      <td>0.000000</td>\n",
       "    </tr>\n",
       "    <tr>\n",
       "      <th>549254</th>\n",
       "      <td>39036.566406</td>\n",
       "      <td>114896.968750</td>\n",
       "      <td>36656.058594</td>\n",
       "      <td>28371.234375</td>\n",
       "      <td>0.891378</td>\n",
       "      <td>-2.345073</td>\n",
       "      <td>0.358460</td>\n",
       "      <td>2.076203</td>\n",
       "      <td>-1</td>\n",
       "      <td>1</td>\n",
       "      <td>-491.892853</td>\n",
       "      <td>-164.486343</td>\n",
       "      <td>0.000000</td>\n",
       "      <td>0.000000</td>\n",
       "    </tr>\n",
       "    <tr>\n",
       "      <th>549255</th>\n",
       "      <td>37635.554688</td>\n",
       "      <td>63254.054688</td>\n",
       "      <td>36309.703125</td>\n",
       "      <td>34960.175781</td>\n",
       "      <td>-0.868658</td>\n",
       "      <td>2.357600</td>\n",
       "      <td>0.269410</td>\n",
       "      <td>-1.199111</td>\n",
       "      <td>1</td>\n",
       "      <td>-1</td>\n",
       "      <td>-358.352875</td>\n",
       "      <td>-358.352875</td>\n",
       "      <td>0.000000</td>\n",
       "      <td>0.000000</td>\n",
       "    </tr>\n",
       "    <tr>\n",
       "      <th>549256</th>\n",
       "      <td>61195.460938</td>\n",
       "      <td>35183.062500</td>\n",
       "      <td>47037.492188</td>\n",
       "      <td>33874.445312</td>\n",
       "      <td>-2.484330</td>\n",
       "      <td>1.060577</td>\n",
       "      <td>-0.757625</td>\n",
       "      <td>0.277058</td>\n",
       "      <td>1</td>\n",
       "      <td>-1</td>\n",
       "      <td>2067.195557</td>\n",
       "      <td>889.014832</td>\n",
       "      <td>0.000000</td>\n",
       "      <td>0.000000</td>\n",
       "    </tr>\n",
       "  </tbody>\n",
       "</table>\n",
       "<p>522476 rows × 14 columns</p>\n",
       "</div>"
      ],
      "text/plain": [
       "            muon_E[0]      muon_E[1]    muon_pt[0]    muon_pt[1]  muon_phi[0]  \\\n",
       "entry                                                                           \n",
       "0        59232.882812   55261.050781  49085.519531  39126.156250     0.147713   \n",
       "1       127074.187500   33773.015625  65642.484375  33766.769531    -1.462382   \n",
       "2       201868.750000   54080.953125  38357.257812  32836.464844    -2.771525   \n",
       "3        79745.382812   28305.017578  69548.132812  27166.605469     1.549823   \n",
       "4        28867.724609   98152.656250  27808.724609  25207.083984    -1.008342   \n",
       "...               ...            ...           ...           ...          ...   \n",
       "549252   37704.515625   53827.457031  33141.777344  31681.882812     2.159711   \n",
       "549253   38264.097656   99136.992188  36691.769531  30524.439453     2.490635   \n",
       "549254   39036.566406  114896.968750  36656.058594  28371.234375     0.891378   \n",
       "549255   37635.554688   63254.054688  36309.703125  34960.175781    -0.868658   \n",
       "549256   61195.460938   35183.062500  47037.492188  33874.445312    -2.484330   \n",
       "\n",
       "        muon_phi[1]  muon_eta[0]  muon_eta[1]  muon_charge[0]  muon_charge[1]  \\\n",
       "entry                                                                           \n",
       "0         -2.867906     0.632411     0.879536               1              -1   \n",
       "1         -2.781488     1.279104    -0.018981              -1               1   \n",
       "2          0.050257    -2.344670    -1.083706              -1               1   \n",
       "3         -0.946571    -0.535110     0.288473              -1               1   \n",
       "4          1.501000     0.275083    -2.035634              -1               1   \n",
       "...             ...          ...          ...             ...             ...   \n",
       "549252    -1.051486    -0.518885     1.122499              -1               1   \n",
       "549253    -0.590939     0.291705     1.846531              -1               1   \n",
       "549254    -2.345073     0.358460     2.076203              -1               1   \n",
       "549255     2.357600     0.269410    -1.199111               1              -1   \n",
       "549256     1.060577    -0.757625     0.277058               1              -1   \n",
       "\n",
       "        muon_etcone20[0]  muon_etcone20[1]  muon_ptcone30[0]  muon_ptcone30[1]  \n",
       "entry                                                                           \n",
       "0            -991.511536        603.206848          0.000000          0.000000  \n",
       "1            -788.608521      -1062.793091       1063.258789          0.000000  \n",
       "2            -320.122009        670.660217          0.000000          0.000000  \n",
       "3              39.919617       -149.053040          0.000000          0.000000  \n",
       "4             121.450531       1119.237671          0.000000          0.000000  \n",
       "...                  ...               ...               ...               ...  \n",
       "549252       -380.786377       2450.864258          0.000000       1780.051636  \n",
       "549253        188.411438       -137.441544          0.000000          0.000000  \n",
       "549254       -491.892853       -164.486343          0.000000          0.000000  \n",
       "549255       -358.352875       -358.352875          0.000000          0.000000  \n",
       "549256       2067.195557        889.014832          0.000000          0.000000  \n",
       "\n",
       "[522476 rows x 14 columns]"
      ]
     },
     "execution_count": 13,
     "metadata": {},
     "output_type": "execute_result"
    }
   ],
   "source": [
    "#cut0: we require the charges of the muons to be opposite (by requiring the sum to be 0)\n",
    "cuts0 = df[ ((df[\"muon_charge[0]\"]) + (df[\"muon_charge[1]\"])  == 0)   ]\n",
    "\n",
    "#cut1: we require the transervse momentum of each muon to be above 20000 MeV'\n",
    "cuts1 = cuts0[(cuts0[\"muon_pt[0]\"] > 20000) & (cuts0[\"muon_pt[1]\"] > 20000 )]\n",
    "\n",
    "#cut2: we require the absolute pseudorapidity of each muon to be below 2.4'\n",
    "cuts2 = cuts1[( np.abs(cuts1[\"muon_eta[0]\"]) < 2.4) & ( np.abs(cuts1[\"muon_eta[1]\"]) < 2.4)]\n",
    "\n",
    "# cuts 2&3: we require the muons to be isolated from other particles in the event these criteria will be\n",
    "# explored later in step 7, for now leave them commented out.\n",
    "\n",
    "cuts3 = cuts2[( (cuts2[\"muon_etcone20[0]\"])/(cuts2[\"muon_pt[0]\"]) < 0.1) & ( (cuts2[\"muon_etcone20[1]\"])/(cuts2[\"muon_pt[1]\"]) < 0.1) ]\n",
    "cuts4 = cuts3[( (cuts3[\"muon_ptcone30[0]\"])/(cuts3[\"muon_pt[0]\"]) < 0.1) & ( (cuts3[\"muon_ptcone30[1]\"])/(cuts3[\"muon_pt[1]\"]) < 0.1) ]\n",
    "\n",
    "#we copy out finally selected dataframe to a new variable 'finalData' for convenience\n",
    "finalData =  cuts4 # you will have to change this line when you want to inlcude the muon \n",
    "#isolation criteria, i.e., \"finalData =  cuts4\" \n",
    "\n",
    "#let's check how many events we have selected after all our criteria have been applied\n",
    "print(\"Number of selected events = \" + str(len(finalData.index)))\n",
    "\n",
    "# and have a look at our finally selected dataframe\n",
    "finalData"
   ]
  },
  {
   "cell_type": "markdown",
   "metadata": {},
   "source": [
    " # Step 3. 'Reconstruct' the Z boson by adding the four-vectors of each muon."
   ]
  },
  {
   "cell_type": "code",
   "execution_count": 5,
   "metadata": {},
   "outputs": [
    {
     "data": {
      "text/plain": [
       "<TLorentzVectorArray [TLorentzVector(x=10881, y=-3350.9, z=72178, t=1.1449e+05) TLorentzVector(x=-24498, y=-77156, z=1.0817e+05, t=1.6085e+05) TLorentzVector(x=-2965.6, y=-12223, z=-2.4116e+05, t=2.5595e+05) ... TLorentzVector(x=3195.4, y=8232.8, z=1.2476e+05, t=1.5393e+05) TLorentzVector(x=-1304.6, y=-3035.3, z=-42814, t=1.0089e+05) TLorentzVector(x=-20695, y=822.45, z=-29639, t=96379)] at 0x7fb7b8c6bdc0>"
      ]
     },
     "execution_count": 5,
     "metadata": {},
     "output_type": "execute_result"
    }
   ],
   "source": [
    "#first we make arrays of four-vectors for the muons. we make separate arrays for muon[0] (leading) and muon[1] (sub-leading)\n",
    "lvArray0 = LVepm.TLorentzVectorArray.from_ptetaphi(finalData[\"muon_pt[0]\"], finalData[\"muon_eta[0]\"], finalData[\"muon_phi[0]\"],finalData[\"muon_E[0]\"])\n",
    "lvArray1 = LVepm.TLorentzVectorArray.from_ptetaphi(finalData[\"muon_pt[1]\"], finalData[\"muon_eta[1]\"], finalData[\"muon_phi[1]\"],finalData[\"muon_E[1]\"])\n",
    "\n",
    "# the TLorentzVectorArray class conveniently allows us to simply add the array\n",
    "# to get an array of four-vectors representing the dimuon system in each event\n",
    "lvArray = lvArray0 + lvArray1\n",
    "lvArray"
   ]
  },
  {
   "cell_type": "markdown",
   "metadata": {},
   "source": [
    "# Step 4.  Make histogram plots of the kinematic information of the muon pairs."
   ]
  },
  {
   "cell_type": "code",
   "execution_count": 6,
   "metadata": {},
   "outputs": [
    {
     "data": {
      "text/plain": [
       "(array([36733., 37359., 32011., 34039., 31325., 35890., 34724., 38017.,\n",
       "        35462., 36066., 32831., 34636., 32390., 34924., 35797.]),\n",
       " array([-3.14      , -2.7213333 , -2.3026667 , -1.884     , -1.4653333 ,\n",
       "        -1.0466666 , -0.628     , -0.20933333,  0.20933333,  0.628     ,\n",
       "         1.0466666 ,  1.4653333 ,  1.884     ,  2.3026667 ,  2.7213333 ,\n",
       "         3.14      ], dtype=float32),\n",
       " <BarContainer object of 15 artists>)"
      ]
     },
     "execution_count": 6,
     "metadata": {},
     "output_type": "execute_result"
    },
    {
     "data": {
      "image/png": "[encoded data removed]",
      "text/plain": [
       "<Figure size 432x288 with 1 Axes>"
      ]
     },
     "metadata": {
      "needs_background": "light"
     },
     "output_type": "display_data"
    },
    {
     "data": {
      "image/png": "[encoded data removed]",
      "text/plain": [
       "<Figure size 432x288 with 1 Axes>"
      ]
     },
     "metadata": {
      "needs_background": "light"
     },
     "output_type": "display_data"
    },
    {
     "data": {
      "image/png": "[encoded data removed]",
      "text/plain": [
       "<Figure size 432x288 with 1 Axes>"
      ]
     },
     "metadata": {
      "needs_background": "light"
     },
     "output_type": "display_data"
    }
   ],
   "source": [
    "# let's make some simple histograms of the kineamtic information associated with the muons.\n",
    "# as an example I look at muon[0] only, but you can look at muon[1] and compare the distributions.\n",
    "\n",
    "# plot the mu[0] pt histogram.\n",
    "plt.figure()\n",
    "plt.xlabel(\"mu pt\")\n",
    "plt.ylabel(\"events per bin\")\n",
    "plt.hist(lvArray0.pt, bins=35, range=[0,120000], alpha=0.6, color='g')\n",
    "\n",
    "# plot the mu[0] pseudorapdity histogram.\n",
    "plt.figure()\n",
    "plt.xlabel(\"mu eta\")\n",
    "plt.ylabel(\"events per bin\")\n",
    "plt.hist(lvArray0.eta, bins=25, range=[-3.0,3.0], alpha=0.6, color='g')\n",
    "\n",
    "# plot the mu[0] phi histogram.\n",
    "plt.figure()\n",
    "plt.xlabel(\"mu phi\")\n",
    "plt.ylabel(\"events per bin\")\n",
    "plt.hist(lvArray0.phi, bins=15, range=[-3.14,3.14], alpha=0.6, color='g')"
   ]
  },
  {
   "cell_type": "markdown",
   "metadata": {},
   "source": [
    "# Step 5. Make histogram plots of the kinematic information of the muons.\n",
    "- now that we have reconstructed four-vectors of the dimuon system and know how to make histogram plots,let's make a histogram plot of the dimuon mass distribution and see if the Cauchy distribution can be seen and if the peak is somehwhere around 90 GeV\n",
    "\n",
    "- we will compare this histogram to a cauchy pdf. However, pdfs are always normalised to an area of 1 while our data represents hundreds of thousands of events, so the data histogram will surely have an integral much larger than 1. Therefore we must first calculate this integral use it to scale our pdf to allow a fair visual comparison between the data histogram and the predicted Cauchy distribution."
   ]
  },
  {
   "cell_type": "code",
   "execution_count": 7,
   "metadata": {},
   "outputs": [],
   "source": [
    "#we set up a few parmaters for our histogram, min and max of the x-axis (mass)\n",
    "minMass = 71000\n",
    "maxMass = 110000\n",
    "\n",
    "#the number of bins\n",
    "nBins = 250 \n",
    "\n",
    "# creating the histogram as two arrays (bin edges & counts in the bins) numpy\n",
    "countsData, edges = np.histogram(lvArray.mass, bins=nBins, range=(minMass, maxMass))\n",
    "\n",
    "# get the width of each bin\n",
    "bin_width = edges[1] - edges[0]\n",
    "# sum over number in each bin and mult. by bin width, which can be factored out.\n",
    "# This gives us the integral\n",
    "integral = bin_width * sum(countsData[0:nBins])\n",
    "\n",
    "# we can make an array of the centre of each bin directly from the edges array this will be useful in plotting our pdf\n",
    "centres = (edges[1:] + edges[:-1]) / 2\n",
    "\n",
    "#fit a Cauchy distributions to the dimuon mass data\n",
    "#mu, std = cauchy.fit(lvArray.mass)\n",
    "#print(\"mu = \" + str(mu))\n",
    "#print(\"std = \" + str(std))"
   ]
  },
  {
   "cell_type": "markdown",
   "metadata": {},
   "source": [
    "So we are almost ready to compare our data histogram with the predicted Cauchy distribution but we know the Cauchy pdf has two free parameters: the mean (mu) and standard deviation (sigma). what should we choose for these values for a first comparison? Why not the world-average values published by the Particle Data group below..."
   ]
  },
  {
   "cell_type": "code",
   "execution_count": 8,
   "metadata": {},
   "outputs": [
    {
     "data": {
      "image/png": "[encoded data removed]",
      "text/plain": [
       "<Figure size 432x288 with 1 Axes>"
      ]
     },
     "metadata": {
      "needs_background": "light"
     },
     "output_type": "display_data"
    }
   ],
   "source": [
    "mZPDG  = 91187.6\n",
    "sigmaZPDG = 2495.2\n",
    "\n",
    "#let's make the comparison plot\n",
    "plt.figure()\n",
    "p = (cauchy.pdf(centres, mZPDG, sigmaZPDG) * integral)\n",
    "plt.plot(centres, p, 'k',label=\"Cauchy pdf (PDG values)\", linewidth=2)\n",
    "plt.hist(lvArray.mass, bins=nBins, range=[minMass, maxMass],label=\"ATLAS Data\", alpha=0.6, color='g')\n",
    "plt.legend()\n",
    "plt.xlabel(\"mumu mass [MeV]\")\n",
    "plt.ylabel(\"# events\")\n",
    "plt.show()"
   ]
  },
  {
   "cell_type": "markdown",
   "metadata": {},
   "source": [
    "The plot above shows a clear peak and a shape that looks very much like a cauchy distrubtion. So we can be confident that our data conatains the decays of a heavy particle to pairs of muons. However the data does not perfectly agree with the predicted shape of a cauchy distributions with the PDG values for the mass and width of the Z boson.\n",
    "\n"
   ]
  },
  {
   "cell_type": "markdown",
   "metadata": {},
   "source": [
    "# 6. Fitting the Cauchy model to the data\n",
    "In the next part of this notebook we will try to assess if we can find values of the Z mass which result in a better 'agreement' between the data and cauchy model. If we trust the cauchy model completely, then this proceedure is a measurement of the z mass. We'll define the agreement between our data and model with the chi-squared function. the function take in arrays of events counts ('obs') and predictions ('preds') corresponding to the bins of the dimuon mass distribution. the function returns the squared difference between the event count and prediction divded by the variance on the prediction, summed over all bins, otherwise known as the chi-squared function."
   ]
  },
  {
   "cell_type": "code",
   "execution_count": 9,
   "metadata": {},
   "outputs": [],
   "source": [
    "#chi-squared function\n",
    "def calcChiSq(obs, preds):\n",
    "    chiSq = 0.0\n",
    "    ndf = len(obs)\n",
    "    for bin in range(0, len(obs)):\n",
    "        diff = preds[bin] - obs[bin]\n",
    "        #print(\"diff = \" + str(diff))\n",
    "        #var = ( np.abs(obs[bin])) # neymans's chi2 (approximate the of the data's variance as poisson)\n",
    "        var = ( np.abs(preds[bin])) # pearson's chi2 (approximate the of the prediction's variance as poisson)\n",
    "        if (var != 0):\n",
    "            chiSq += (diff**2)/(var)\n",
    "            #print(\"obs, pred, diff, var  chi contrib = \"+  str( obs[bin]) +\" \" +  str(preds[bin]) +\" \"+  str(diff) +\" \"+  str(var) +\" \" + str((diff**2)/(var)))\n",
    "    return chiSq, ndf"
   ]
  },
  {
   "cell_type": "markdown",
   "metadata": {},
   "source": [
    "To perform the fit we will:\n",
    "- We'll now loop over a range of $m_{Z}$ values, \n",
    "- Generate a cauchy distribution for each value evaluate the $\\chi^{2}$ between that distribution and the data histogram.\n",
    "- find the $m_{Z}$ value that gives the smallest the value of the $\\chi^{2}$\n",
    "- plot the $\\Delta \\chi^{2}$ vs the $m_{Z}$, and use the \\emph{critical values} of this curve to evulated the uncertainties on $m_{Z}$\n",
    "- compare the data histogram to the fitted} Cauchy distribution"
   ]
  },
  {
   "cell_type": "code",
   "execution_count": 10,
   "metadata": {},
   "outputs": [
    {
     "data": {
      "text/plain": [
       "<Figure size 432x288 with 0 Axes>"
      ]
     },
     "metadata": {},
     "output_type": "display_data"
    },
    {
     "data": {
      "image/png": "[encoded data removed]",
      "text/plain": [
       "<Figure size 432x288 with 1 Axes>"
      ]
     },
     "metadata": {
      "needs_background": "light"
     },
     "output_type": "display_data"
    },
    {
     "name": "stdout",
     "output_type": "stream",
     "text": [
      "best-fit = 90754 +/- 4.205328573982115\n"
     ]
    },
    {
     "data": {
      "image/png": "[encoded data removed]",
      "text/plain": [
       "<Figure size 432x288 with 1 Axes>"
      ]
     },
     "metadata": {
      "needs_background": "light"
     },
     "output_type": "display_data"
    }
   ],
   "source": [
    "#some arrays to hold the z mass and chi-squared values\n",
    "mZAr = np.array([])\n",
    "chi2Ar = np.array([])\n",
    "\n",
    "#deciding the range of z mass values and how fine the steps in this range will be\n",
    "minMz = 90730\n",
    "maxMz = 90765\n",
    "step = 1\n",
    "\n",
    "#vairables to use in the loop to find value of z mass that gives smallest chi2\n",
    "bestFitMz1D = 0.0\n",
    "minChi2 = 10000000\n",
    "\n",
    "for mZ in range(minMz, maxMz, step): #starting loop\n",
    "    countsPDF = (cauchy.pdf(centres, mZ, sigmaZPDG) * integral) #building pdf for these values\n",
    "    #countsPDF = (norm.pdf(centres, mZ, sigmaZPDG) * integral) #building pdf for these values\n",
    "    chi2, ndf = calcChiSq(countsData, countsPDF) # call chi2 function to get chi2 for this particular pdf and data\n",
    "    mZAr = np.append(mZAr, mZ) #adding values to arrays\n",
    "    chi2Ar = np.append(chi2Ar, chi2)\n",
    "    if(chi2 < minChi2): #keeping track of what is the smallest chi2 value we have found\n",
    "        minChi2 = chi2\n",
    "        bestFitMz1D = mZ\n",
    "                \n",
    "# as we will only be interested in the change in chi2 w.r.t. mZ,  we can rescale all the chi2\n",
    "#values such that the minimum chi2 value is 0. \n",
    "chi2Ar = chi2Ar - minChi2\n",
    "\n",
    "#we expect the chi2 vs. mZ curve to be quadratic, so let's fit that fucntion to it.\n",
    "z = np.polyfit(mZAr, chi2Ar, 2) #\"2\" for a second-order polynomial\n",
    "p = np.poly1d(z)\n",
    "\n",
    "#lets plot our chi2 values vs mz along with the fit\n",
    "plt.figure()\n",
    "fig, ax = plt.subplots()\n",
    "ax.plot(mZAr, chi2Ar, 'r+', lw=5, alpha=0.6, label=\"chi2 evaluations\")\n",
    "ax.plot(mZAr, p(mZAr), 'b-', lw=5, alpha=0.6, label=\"quadratic fit\")\n",
    "\n",
    "# we can display the estimated uncertianty on mZ via critical values () of the delta chi-squared curve\n",
    "y0 = 1.0\n",
    "crit = (p - y0).roots # roots of the polynominal -1, i.e., the mz values where p = 1 \n",
    "\n",
    "#shading in the uncertainty band \n",
    "px=np.arange(crit[1],crit[0],0.001)\n",
    "ax.fill_between(px,p(px),alpha=0.5, color='g', label=\"uncertainty\")\n",
    "ax.legend()\n",
    "\n",
    "#setting reasonable axis ranges and titles\n",
    "ax.set_xlim(minMz, maxMz)\n",
    "ax.set_ylim(0.0, 5.0)\n",
    "plt.xlabel(\"mZ [MeV]\")\n",
    "plt.ylabel(\"delta chi-squared\")\n",
    "\n",
    "plt.show()\n",
    "\n",
    "#print result and uncertainty\n",
    "my1DResult = bestFitMz1D\n",
    "my1DUncertainty = bestFitMz1D-crit[1]\n",
    "print(\"best-fit = \" + str(my1DResult) + \" +/- \" + str(my1DUncertainty))\n",
    "\n",
    "# we now compare our data histogram with the cauchy distribution with the mean and standard deviation\n",
    "# that minimise the chi-squared. This pdf should agree much better than the pdf with the PDG values.\n",
    "\n",
    "plt.figure()\n",
    "p = (cauchy.pdf(centres, my1DResult, sigmaZPDG))\n",
    "\n",
    "pInt = bin_width * sum(p[0:nBins])\n",
    "scale = integral/pInt\n",
    "pScaled = (cauchy.pdf(centres, my1DResult, sigmaZPDG) *scale)\n",
    "\n",
    "plt.plot(centres, pScaled, 'k', linewidth=2)\n",
    "\n",
    "x = np.linspace(87000, 94000, 1000)\n",
    "pScaledNorm = (norm.pdf(x, my1DResult, (sigmaZPDG*0.8) )*(0.6*scale))\n",
    "\n",
    "#plt.plot(x, pScaledNorm, 'r', linewidth=2)\n",
    "\n",
    "plt.hist(lvArray.mass, bins=nBins, range=[minMass, maxMass], alpha=0.6, color='g')\n",
    "plt.xlabel(\"mumu mass [MeV]\")\n",
    "plt.ylabel(\"# events\")\n",
    "plt.show() "
   ]
  },
  {
   "cell_type": "markdown",
   "metadata": {},
   "source": [
    "# Try a double gaussian with curve_fit"
   ]
  },
  {
   "cell_type": "code",
   "execution_count": 11,
   "metadata": {},
   "outputs": [
    {
     "data": {
      "text/plain": [
       "Text(0, 0.5, 'Data')"
      ]
     },
     "execution_count": 11,
     "metadata": {},
     "output_type": "execute_result"
    },
    {
     "data": {
      "image/png": "[encoded data removed]",
      "text/plain": [
       "<Figure size 432x288 with 1 Axes>"
      ]
     },
     "metadata": {
      "needs_background": "light"
     },
     "output_type": "display_data"
    }
   ],
   "source": [
    "#assume mass, sigma\n",
    "from scipy.optimize import curve_fit\n",
    "\n",
    "def gaussian(x, mean, amplitude, standard_deviation):\n",
    "    return amplitude * np.exp( - ((x - mean) / standard_deviation) ** 2)\n",
    "\n",
    "def doubleGaussian(x, mean1, amplitude1, standard_deviation1, mean2, amplitude2, standard_deviation2):\n",
    "    gaus1 = amplitude1 * np.exp( - ((x - mean1) / standard_deviation1) ** 2)\n",
    "    gaus2 = amplitude2 * np.exp( - ((x - mean2) / standard_deviation2) ** 2)\n",
    "    return gaus1 + gaus2\n",
    "\n",
    "#bestFitParams, covarianceMatrix = curve_fit(gaussian, centres, countsData, p0=[91000., 2000., 10000.])\n",
    "bestFitParams, covarianceMatrix = curve_fit(doubleGaussian, centres, countsData, p0=[91000., 2000., 10000., 91000, 6000, 2000])\n",
    "\n",
    "x_interval_for_fit = np.linspace(edges[0], edges[-1], 10000)\n",
    "#plt.plot(x_interval_for_fit, gaussian(x_interval_for_fit, *bestFitParams), label='gaussian fit')\n",
    "plt.plot(x_interval_for_fit, doubleGaussian(x_interval_for_fit, *bestFitParams),'r-', linewidth=3, label='double gaussian fit')\n",
    "plt.errorbar(centres, countsData, yerr=np.sqrt(countsData), label=\"Data\", fmt='o', mfc='k', mec='k', mew=0.1, ecolor='k')\n",
    "plt.legend()\n",
    "plt.xlabel(\"$ m_{\\mu\\mu}$\")\n",
    "plt.ylabel(\"Data\")"
   ]
  },
  {
   "cell_type": "markdown",
   "metadata": {},
   "source": [
    "now we have a 'measurement' of mZ, let's make a plot comparing our measured value with that from\n",
    "the PDG to assess how good our measurement is."
   ]
  },
  {
   "cell_type": "code",
   "execution_count": 12,
   "metadata": {},
   "outputs": [
    {
     "data": {
      "image/png": "[encoded data removed]",
      "text/plain": [
       "<Figure size 432x288 with 1 Axes>"
      ]
     },
     "metadata": {
      "needs_background": "light"
     },
     "output_type": "display_data"
    }
   ],
   "source": [
    "mZPDGAr = np.array([mZPDG]) \n",
    "uncZPDGAr = np.array([2.1]) \n",
    "yPDGAr = np.array([1.0]) \n",
    "\n",
    "mZ1D = np.array([my1DResult]) \n",
    "sigZ1D = np.array([my1DUncertainty]) \n",
    "y1D = np.array([2.0]) \n",
    "\n",
    "plt.figure()\n",
    "ax = plt.gca()\n",
    "ax.set_xlim(minMz, maxMz+700)#need to extend x axis range to include PDG value\n",
    "ax.set_ylim(0.0, 4.0)\n",
    "\n",
    "plt.errorbar(mZPDGAr, yPDGAr, xerr=uncZPDGAr, label=\"Particle Data Group\", elinewidth=5,  fmt=\"o\", mfc=\"blue\", ms=8)\n",
    "plt.errorbar(mZ1D, y1D, xerr=sigZ1D, fmt=\"o\", label=\"ATLAS Open Data\", elinewidth=5, ms=8, mfc='blue')\n",
    "\n",
    "plt.xlabel(\"mZ [MeV]\")\n",
    "plt.yticks(y1D, \" \")\n",
    "\n",
    "\n",
    "ax.axes.yaxis.set_visible(False)\n",
    "\n",
    "plt.legend()\n",
    "plt.show()"
   ]
  },
  {
   "cell_type": "markdown",
   "metadata": {},
   "source": [
    "Thats completes steps 1-5. You have seen how the chi-squared minisation technique allows us to extract measurements\n",
    "of a physical parameter such as $m_{Z}$ by comparing the predictions of statistical model to data.\n",
    "\n",
    "# Now it's your turn!\n",
    "\n",
    "Refer back to the lab manual to see how you might improve this measurement and have fun!"
   ]
  }
 ],
 "metadata": {
  "kernelspec": {
   "display_name": "Python 3",
   "language": "python",
   "name": "python3"
  },
  "language_info": {
   "codemirror_mode": {
    "name": "ipython",
    "version": 3
   },
   "file_extension": ".py",
   "mimetype": "text/x-python",
   "name": "python",
   "nbconvert_exporter": "python",
   "pygments_lexer": "ipython3",
   "version": "3.8.5"
  }
 },
 "nbformat": 4,
 "nbformat_minor": 2
}
